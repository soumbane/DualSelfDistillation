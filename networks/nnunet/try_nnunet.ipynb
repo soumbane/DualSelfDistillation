{
 "cells": [
  {
   "cell_type": "code",
   "execution_count": 1,
   "metadata": {},
   "outputs": [
    {
     "name": "stderr",
     "output_type": "stream",
     "text": [
      "/home/neil/.conda/envs/medimg/lib/python3.9/site-packages/tqdm/auto.py:22: TqdmWarning: IProgress not found. Please update jupyter and ipywidgets. See https://ipywidgets.readthedocs.io/en/stable/user_install.html\n",
      "  from .autonotebook import tqdm as notebook_tqdm\n"
     ]
    }
   ],
   "source": [
    "import os\n",
    "\n",
    "import torch\n",
    "from monai.networks.nets import DynUNet\n",
    "import numpy as np"
   ]
  },
  {
   "cell_type": "code",
   "execution_count": 10,
   "metadata": {},
   "outputs": [],
   "source": [
    "task_name = {\n",
    "    \"01\": \"Task01_BrainTumour\",\n",
    "    \"02\": \"Task02_Heart\",\n",
    "    \"03\": \"Task03_Liver\",\n",
    "    \"04\": \"Task04_Hippocampus\",\n",
    "    \"05\": \"Task05_Prostate\",\n",
    "    \"06\": \"Task06_Lung\",\n",
    "    \"07\": \"Task07_Pancreas\",\n",
    "    \"08\": \"Task08_HepaticVessel\",\n",
    "    \"09\": \"Task09_Spleen\",\n",
    "    \"10\": \"Task10_Colon\",\n",
    "}\n",
    "\n",
    "patch_size = {\n",
    "    \"01\": [96, 96, 96],\n",
    "    \"02\": [160, 192, 80],\n",
    "    \"03\": [128, 128, 128],\n",
    "    \"04\": [40, 56, 40],\n",
    "    \"05\": [320, 256, 20],\n",
    "    \"06\": [192, 160, 80],\n",
    "    \"07\": [224, 224, 40],\n",
    "    \"08\": [192, 192, 64],\n",
    "    \"09\": [192, 160, 64],\n",
    "    \"10\": [192, 160, 56],\n",
    "}\n",
    "\n",
    "spacing = {\n",
    "    \"01\": [1.0, 1.0, 1.0],\n",
    "    \"02\": [1.25, 1.25, 1.37],\n",
    "    \"03\": [0.77, 0.77, 1],\n",
    "    \"04\": [1.0, 1.0, 1.0],\n",
    "    \"05\": [0.62, 0.62, 3.6],\n",
    "    \"06\": [0.79, 0.79, 1.24],\n",
    "    \"07\": [0.8, 0.8, 2.5],\n",
    "    \"08\": [0.8, 0.8, 1.5],\n",
    "    \"09\": [0.79, 0.79, 1.6],\n",
    "    \"10\": [0.78, 0.78, 3],\n",
    "}\n",
    "\n",
    "clip_values = {\n",
    "    \"01\": [0, 0],\n",
    "    \"02\": [0, 0],\n",
    "    \"03\": [-17, 201],\n",
    "    \"04\": [0, 0],\n",
    "    \"05\": [0, 0],\n",
    "    \"06\": [-1024, 325],\n",
    "    \"07\": [-96, 215],\n",
    "    \"08\": [-3, 243],\n",
    "    \"09\": [-41, 176],\n",
    "    \"10\": [-30, 165.82],\n",
    "}\n",
    "\n",
    "normalize_values = {\n",
    "    \"01\": [0, 0],\n",
    "    \"02\": [0, 0],\n",
    "    \"03\": [99.40, 39.36],\n",
    "    \"04\": [0, 0],\n",
    "    \"05\": [0, 0],\n",
    "    \"06\": [-158.58, 324.7],\n",
    "    \"07\": [77.99, 75.4],\n",
    "    \"08\": [104.37, 52.62],\n",
    "    \"09\": [99.29, 39.47],\n",
    "    \"10\": [62.18, 32.65],\n",
    "}\n",
    "\n",
    "data_loader_params = {\n",
    "    \"01\": {\"batch_size\": 8},\n",
    "    \"02\": {\"batch_size\": 2},\n",
    "    \"03\": {\"batch_size\": 8},\n",
    "    \"04\": {\"batch_size\": 9},\n",
    "    \"05\": {\"batch_size\": 2},\n",
    "    \"06\": {\"batch_size\": 2},\n",
    "    \"07\": {\"batch_size\": 2},\n",
    "    \"08\": {\"batch_size\": 2},\n",
    "    \"09\": {\"batch_size\": 2},\n",
    "    \"10\": {\"batch_size\": 2},\n",
    "}\n",
    "\n",
    "deep_supr_num = {\n",
    "    \"01\": 3,\n",
    "    \"02\": 3,\n",
    "    \"03\": 3,\n",
    "    \"04\": 1,\n",
    "    \"05\": 4,\n",
    "    \"06\": 3,\n",
    "    \"07\": 3,\n",
    "    \"08\": 3,\n",
    "    \"09\": 3,\n",
    "    \"10\": 3,\n",
    "}\n"
   ]
  },
  {
   "cell_type": "code",
   "execution_count": 11,
   "metadata": {},
   "outputs": [],
   "source": [
    "def get_kernels_strides(task_id):\n",
    "    \"\"\"\n",
    "    This function is only used for decathlon datasets with the provided patch sizes.\n",
    "    When refering this method for other tasks, please ensure that the patch size for each spatial dimension should\n",
    "    be divisible by the product of all strides in the corresponding dimension.\n",
    "    In addition, the minimal spatial size should have at least one dimension that has twice the size of\n",
    "    the product of all strides. For patch sizes that cannot find suitable strides, an error will be raised.\n",
    "    \"\"\"\n",
    "    sizes, spacings = patch_size[task_id], spacing[task_id]\n",
    "    input_size = sizes\n",
    "    strides, kernels = [], []\n",
    "    while True:\n",
    "        spacing_ratio = [sp / min(spacings) for sp in spacings]\n",
    "        stride = [\n",
    "            2 if ratio <= 2 and size >= 8 else 1\n",
    "            for (ratio, size) in zip(spacing_ratio, sizes)\n",
    "        ]\n",
    "        kernel = [3 if ratio <= 2 else 1 for ratio in spacing_ratio]\n",
    "        if all(s == 1 for s in stride):\n",
    "            break\n",
    "        for idx, (i, j) in enumerate(zip(sizes, stride)):\n",
    "            if i % j != 0:\n",
    "                raise ValueError(\n",
    "                    f\"Patch size is not supported, please try to modify the size {input_size[idx]} in the spatial dimension {idx}.\"\n",
    "                )\n",
    "        sizes = [i / j for i, j in zip(sizes, stride)]\n",
    "        spacings = [i * j for i, j in zip(spacings, stride)]\n",
    "        kernels.append(kernel)\n",
    "        strides.append(stride)\n",
    "\n",
    "    strides.insert(0, len(spacings) * [1])\n",
    "    kernels.append(len(spacings) * [3])\n",
    "    return kernels, strides"
   ]
  },
  {
   "cell_type": "code",
   "execution_count": 12,
   "metadata": {},
   "outputs": [],
   "source": [
    "def get_network(task_id):\n",
    "    # n_class = len(properties[\"labels\"])\n",
    "    # in_channels = len(properties[\"modality\"])\n",
    "    kernels, strides = get_kernels_strides(task_id)\n",
    "    print(\"Kernels .....\")\n",
    "    print(np.shape(kernels))\n",
    "    print(len(kernels))\n",
    "    print(kernels)\n",
    "\n",
    "    print(\"Strides .....\")\n",
    "    print(np.shape(strides))\n",
    "    print(len(strides))\n",
    "    print(strides)\n",
    "    raise ValueError\n",
    "\n",
    "    net = DynUNet(\n",
    "        spatial_dims=3,\n",
    "        in_channels=1,\n",
    "        out_channels=8,\n",
    "        kernel_size=kernels,\n",
    "        strides=strides,\n",
    "        upsample_kernel_size=strides[1:],\n",
    "        norm_name=\"instance\",\n",
    "        deep_supervision=True,\n",
    "        deep_supr_num=deep_supr_num[task_id],\n",
    "    )"
   ]
  },
  {
   "cell_type": "code",
   "execution_count": 14,
   "metadata": {},
   "outputs": [
    {
     "name": "stdout",
     "output_type": "stream",
     "text": [
      "Kernels .....\n",
      "(5, 3)\n",
      "5\n",
      "[[3, 3, 3], [3, 3, 3], [3, 3, 3], [3, 3, 3], [3, 3, 3]]\n",
      "Strides .....\n",
      "(5, 3)\n",
      "5\n",
      "[[1, 1, 1], [2, 2, 2], [2, 2, 2], [2, 2, 2], [2, 2, 2]]\n"
     ]
    },
    {
     "ename": "ValueError",
     "evalue": "",
     "output_type": "error",
     "traceback": [
      "\u001b[0;31m---------------------------------------------------------------------------\u001b[0m",
      "\u001b[0;31mValueError\u001b[0m                                Traceback (most recent call last)",
      "\u001b[1;32m/home/neil/Lab_work/Cardiac_Image_Segmentation/MMWHS_Challenge_SelfDistil/networks/nnunet/try_nnunet.ipynb Cell 5\u001b[0m in \u001b[0;36m<cell line: 1>\u001b[0;34m()\u001b[0m\n\u001b[0;32m----> <a href='vscode-notebook-cell://ssh-remote%2B172.30.0.255/home/neil/Lab_work/Cardiac_Image_Segmentation/MMWHS_Challenge_SelfDistil/networks/nnunet/try_nnunet.ipynb#ch0000004vscode-remote?line=0'>1</a>\u001b[0m net \u001b[39m=\u001b[39m get_network(\u001b[39m\"\u001b[39;49m\u001b[39m01\u001b[39;49m\u001b[39m\"\u001b[39;49m)\n",
      "\u001b[1;32m/home/neil/Lab_work/Cardiac_Image_Segmentation/MMWHS_Challenge_SelfDistil/networks/nnunet/try_nnunet.ipynb Cell 5\u001b[0m in \u001b[0;36mget_network\u001b[0;34m(task_id)\u001b[0m\n\u001b[1;32m     <a href='vscode-notebook-cell://ssh-remote%2B172.30.0.255/home/neil/Lab_work/Cardiac_Image_Segmentation/MMWHS_Challenge_SelfDistil/networks/nnunet/try_nnunet.ipynb#ch0000004vscode-remote?line=11'>12</a>\u001b[0m \u001b[39mprint\u001b[39m(\u001b[39mlen\u001b[39m(strides))\n\u001b[1;32m     <a href='vscode-notebook-cell://ssh-remote%2B172.30.0.255/home/neil/Lab_work/Cardiac_Image_Segmentation/MMWHS_Challenge_SelfDistil/networks/nnunet/try_nnunet.ipynb#ch0000004vscode-remote?line=12'>13</a>\u001b[0m \u001b[39mprint\u001b[39m(strides)\n\u001b[0;32m---> <a href='vscode-notebook-cell://ssh-remote%2B172.30.0.255/home/neil/Lab_work/Cardiac_Image_Segmentation/MMWHS_Challenge_SelfDistil/networks/nnunet/try_nnunet.ipynb#ch0000004vscode-remote?line=13'>14</a>\u001b[0m \u001b[39mraise\u001b[39;00m \u001b[39mValueError\u001b[39;00m\n\u001b[1;32m     <a href='vscode-notebook-cell://ssh-remote%2B172.30.0.255/home/neil/Lab_work/Cardiac_Image_Segmentation/MMWHS_Challenge_SelfDistil/networks/nnunet/try_nnunet.ipynb#ch0000004vscode-remote?line=15'>16</a>\u001b[0m net \u001b[39m=\u001b[39m DynUNet(\n\u001b[1;32m     <a href='vscode-notebook-cell://ssh-remote%2B172.30.0.255/home/neil/Lab_work/Cardiac_Image_Segmentation/MMWHS_Challenge_SelfDistil/networks/nnunet/try_nnunet.ipynb#ch0000004vscode-remote?line=16'>17</a>\u001b[0m     spatial_dims\u001b[39m=\u001b[39m\u001b[39m3\u001b[39m,\n\u001b[1;32m     <a href='vscode-notebook-cell://ssh-remote%2B172.30.0.255/home/neil/Lab_work/Cardiac_Image_Segmentation/MMWHS_Challenge_SelfDistil/networks/nnunet/try_nnunet.ipynb#ch0000004vscode-remote?line=17'>18</a>\u001b[0m     in_channels\u001b[39m=\u001b[39m\u001b[39m1\u001b[39m,\n\u001b[0;32m   (...)\u001b[0m\n\u001b[1;32m     <a href='vscode-notebook-cell://ssh-remote%2B172.30.0.255/home/neil/Lab_work/Cardiac_Image_Segmentation/MMWHS_Challenge_SelfDistil/networks/nnunet/try_nnunet.ipynb#ch0000004vscode-remote?line=24'>25</a>\u001b[0m     deep_supr_num\u001b[39m=\u001b[39mdeep_supr_num[task_id],\n\u001b[1;32m     <a href='vscode-notebook-cell://ssh-remote%2B172.30.0.255/home/neil/Lab_work/Cardiac_Image_Segmentation/MMWHS_Challenge_SelfDistil/networks/nnunet/try_nnunet.ipynb#ch0000004vscode-remote?line=25'>26</a>\u001b[0m )\n",
      "\u001b[0;31mValueError\u001b[0m: "
     ]
    }
   ],
   "source": [
    "net = get_network(\"01\")"
   ]
  },
  {
   "cell_type": "code",
   "execution_count": 16,
   "metadata": {},
   "outputs": [
    {
     "name": "stdout",
     "output_type": "stream",
     "text": [
      "[tensor([0.2368]), tensor([0.2368]), tensor([0.2368])]\n"
     ]
    }
   ],
   "source": [
    "heads = [torch.rand(1)] * 3\n",
    "print(heads)"
   ]
  },
  {
   "cell_type": "code",
   "execution_count": 17,
   "metadata": {},
   "outputs": [
    {
     "name": "stdout",
     "output_type": "stream",
     "text": [
      "{'spatial_dims': 3, 'in_channels': 32, 'out_channels': 64, 'kernel_size': [3, 3, 3], 'stride': [2, 2, 2]}\n"
     ]
    }
   ],
   "source": [
    "params = {\n",
    "    \"spatial_dims\": 3,\n",
    "    \"in_channels\": 32,\n",
    "    \"out_channels\": 64,\n",
    "    \"kernel_size\": [3,3,3],\n",
    "    \"stride\": [2,2,2]\n",
    "    }\n",
    "\n",
    "print(params)"
   ]
  },
  {
   "cell_type": "code",
   "execution_count": 19,
   "metadata": {},
   "outputs": [
    {
     "ename": "SyntaxError",
     "evalue": "invalid syntax (777555519.py, line 1)",
     "output_type": "error",
     "traceback": [
      "\u001b[0;36m  Input \u001b[0;32mIn [19]\u001b[0;36m\u001b[0m\n\u001b[0;31m    kargs = (**params)\u001b[0m\n\u001b[0m             ^\u001b[0m\n\u001b[0;31mSyntaxError\u001b[0m\u001b[0;31m:\u001b[0m invalid syntax\n"
     ]
    }
   ],
   "source": [
    "kargs = (**params)\n",
    "print(kargs)"
   ]
  },
  {
   "cell_type": "code",
   "execution_count": null,
   "metadata": {},
   "outputs": [],
   "source": []
  }
 ],
 "metadata": {
  "kernelspec": {
   "display_name": "Python 3.9.12 ('medimg')",
   "language": "python",
   "name": "python3"
  },
  "language_info": {
   "codemirror_mode": {
    "name": "ipython",
    "version": 3
   },
   "file_extension": ".py",
   "mimetype": "text/x-python",
   "name": "python",
   "nbconvert_exporter": "python",
   "pygments_lexer": "ipython3",
   "version": "3.9.12"
  },
  "orig_nbformat": 4,
  "vscode": {
   "interpreter": {
    "hash": "6b9a26f28e520cd7802b5ad7ac5e1e629c49b462f2cdd01c4cdb7aade2225378"
   }
  }
 },
 "nbformat": 4,
 "nbformat_minor": 2
}
